{
  "nbformat": 4,
  "nbformat_minor": 0,
  "metadata": {
    "colab": {
      "name": "Naive Bayes.ipynb",
      "provenance": []
    },
    "kernelspec": {
      "name": "python3",
      "display_name": "Python 3"
    }
  },
  "cells": [
    {
      "cell_type": "markdown",
      "metadata": {
        "id": "e-01DjcuvNqO",
        "colab_type": "text"
      },
      "source": [
        "\n",
        "Import necessary packages"
      ]
    },
    {
      "cell_type": "code",
      "metadata": {
        "id": "im1odmzCt30R",
        "colab_type": "code",
        "colab": {}
      },
      "source": [
        "import pandas as pd\n",
        "import numpy as np\n",
        "from sklearn import metrics \n",
        "from sklearn.naive_bayes import GaussianNB\n",
        "from sklearn.model_selection import train_test_split\n",
        "from sklearn import preprocessing\n",
        "from sklearn.metrics import classification_report\n",
        "import pickle\n",
        "import matplotlib.pyplot as plt\n",
        "import seaborn as sns\n",
        "import tensorflow as tf"
      ],
      "execution_count": null,
      "outputs": []
    },
    {
      "cell_type": "markdown",
      "metadata": {
        "id": "M2fiqC1FvPLY",
        "colab_type": "text"
      },
      "source": [
        "\n",
        "Read the dataset as a panda dataframe"
      ]
    },
    {
      "cell_type": "code",
      "metadata": {
        "id": "FzOWyrNJt_fJ",
        "colab_type": "code",
        "colab": {}
      },
      "source": [
        "df = pd.read_csv(\"Path of the dataset\")\n",
        "df.head()"
      ],
      "execution_count": null,
      "outputs": []
    },
    {
      "cell_type": "markdown",
      "metadata": {
        "id": "TtIc4VJJvRr9",
        "colab_type": "text"
      },
      "source": [
        "Split the dataset into features (x) and labels (y)"
      ]
    },
    {
      "cell_type": "code",
      "metadata": {
        "id": "4jqG0VIZuB3K",
        "colab_type": "code",
        "colab": {}
      },
      "source": [
        "le = preprocessing.LabelEncoder()\n",
        "x = df.drop('object',axis = 1)\n",
        "a=df['object']\n",
        "y= le.fit_transform(a)\n",
        "print (x)\n",
        "print (y)"
      ],
      "execution_count": null,
      "outputs": []
    },
    {
      "cell_type": "markdown",
      "metadata": {
        "id": "UUE9kcHIvV5d",
        "colab_type": "text"
      },
      "source": [
        "Split the features and labels into training and testing set"
      ]
    },
    {
      "cell_type": "code",
      "metadata": {
        "id": "Ow1C1HPbuEXx",
        "colab_type": "code",
        "colab": {}
      },
      "source": [
        "x_train1, x_test1, y_train1, y_test1 = train_test_split(x, y, random_state=15, test_size=0.1,stratify=y)"
      ],
      "execution_count": null,
      "outputs": []
    },
    {
      "cell_type": "markdown",
      "metadata": {
        "id": "MEBH5ABevZJQ",
        "colab_type": "text"
      },
      "source": [
        "Train the Naive Bayes model"
      ]
    },
    {
      "cell_type": "code",
      "metadata": {
        "id": "7FqZ9V6ouFRE",
        "colab_type": "code",
        "colab": {}
      },
      "source": [
        "clf = GaussianNB()\n",
        "clf.fit(x_train1, y_train1)"
      ],
      "execution_count": null,
      "outputs": []
    },
    {
      "cell_type": "markdown",
      "metadata": {
        "id": "Mdlf0_5Avbvc",
        "colab_type": "text"
      },
      "source": [
        "Test the trained model"
      ]
    },
    {
      "cell_type": "code",
      "metadata": {
        "id": "MH4qIIb2uwrJ",
        "colab_type": "code",
        "colab": {}
      },
      "source": [
        "y_pred = clf.predict(x_test1)\n",
        "accuracy = metrics.accuracy_score(y_test1, y_pred)\n",
        "accuracy_percentage = 100 * accuracy\n",
        "print(accuracy_percentage)\n",
        "\n",
        "print(classification_report(y_test1, y_pred))\n",
        "con_mat = tf.math.confusion_matrix(labels=y_test1, predictions=y_pred).numpy()\n",
        "\n",
        "con_mat_norm = np.around(con_mat.astype('float') / con_mat.sum(axis=1)[:, np.newaxis], decimals=2)\n",
        "classes=['Car','Drone','Human']\n",
        "con_mat_df = pd.DataFrame(con_mat_norm,\n",
        "                     index = classes, \n",
        "                     columns = classes)\n",
        "\n",
        "figure = plt.figure(figsize=(6, 4))\n",
        "sns.heatmap(con_mat_df, annot=True,cmap='Blues',linecolor='black',linewidths=1)\n",
        "plt.tight_layout()\n",
        "plt.ylabel('True label',fontsize=12)\n",
        "plt.xlabel('Predicted label',fontsize=12)\n",
        "\n",
        "plt.show()"
      ],
      "execution_count": null,
      "outputs": []
    },
    {
      "cell_type": "markdown",
      "metadata": {
        "id": "niMbbk-FvdyW",
        "colab_type": "text"
      },
      "source": [
        "Save the trained model"
      ]
    },
    {
      "cell_type": "code",
      "metadata": {
        "id": "yGu_hjKqu1RC",
        "colab_type": "code",
        "colab": {}
      },
      "source": [
        "\n",
        "pickle.dump(clf,open(\"Path to save the model\",'wb'))"
      ],
      "execution_count": null,
      "outputs": []
    },
    {
      "cell_type": "markdown",
      "metadata": {
        "id": "-40dhFvxvfuq",
        "colab_type": "text"
      },
      "source": [
        "Load the saved model"
      ]
    },
    {
      "cell_type": "code",
      "metadata": {
        "id": "JqeUiuAwvHln",
        "colab_type": "code",
        "colab": {}
      },
      "source": [
        "loaded_model = pickle.load(open('Path to load saved model', 'rb'))\n",
        "\n",
        "\n",
        "y_pred_1=loaded_model.predict(x_test1)\n",
        "con_mat = tf.math.confusion_matrix(labels=y_test1, predictions=y_pred_1).numpy()\n",
        "\n",
        "con_mat_norm = np.around(con_mat.astype('float') / con_mat.sum(axis=1)[:, np.newaxis], decimals=2)\n",
        "classes=['Car','Drone','Human']\n",
        "con_mat_df = pd.DataFrame(con_mat_norm,\n",
        "                     index = classes, \n",
        "                     columns = classes)\n",
        "\n",
        "figure = plt.figure(figsize=(6, 4))\n",
        "sns.heatmap(con_mat_df, annot=True,cmap='Blues',linecolor='black',linewidths=1)\n",
        "plt.tight_layout()\n",
        "plt.ylabel('True label',fontsize=12)\n",
        "plt.xlabel('Predicted label',fontsize=12)\n",
        "\n",
        "plt.show()\n",
        "print(classification_report(y_test1, y_pred_1))"
      ],
      "execution_count": null,
      "outputs": []
    }
  ]
}