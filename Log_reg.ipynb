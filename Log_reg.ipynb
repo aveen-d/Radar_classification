{
  "nbformat": 4,
  "nbformat_minor": 0,
  "metadata": {
    "colab": {
      "name": "Log_reg.ipynb",
      "provenance": []
    },
    "kernelspec": {
      "name": "python3",
      "display_name": "Python 3"
    }
  },
  "cells": [
    {
      "cell_type": "markdown",
      "metadata": {
        "id": "2SzKiH1yki2-",
        "colab_type": "text"
      },
      "source": [
        "Import necessary packages"
      ]
    },
    {
      "cell_type": "code",
      "metadata": {
        "id": "iX8PQiIvkcSC",
        "colab_type": "code",
        "colab": {}
      },
      "source": [
        "import pandas as pd\n",
        "import numpy as np\n",
        "from sklearn import metrics \n",
        "from sklearn.linear_model import LogisticRegression\n",
        "from sklearn.model_selection import train_test_split\n",
        "from sklearn import preprocessing\n",
        "import matplotlib.pyplot as plt\n",
        "import seaborn as sns\n",
        "import tensorflow as tf\n",
        "from sklearn.metrics import classification_report\n",
        "import pickle"
      ],
      "execution_count": null,
      "outputs": []
    },
    {
      "cell_type": "markdown",
      "metadata": {
        "id": "uqPRPwqilIp2",
        "colab_type": "text"
      },
      "source": [
        "Read the dataset as a panda dataframe"
      ]
    },
    {
      "cell_type": "code",
      "metadata": {
        "id": "eJIBGApMlHin",
        "colab_type": "code",
        "colab": {}
      },
      "source": [
        "df = pd.read_csv(\"Path of the dataset\")\n",
        "df.head()"
      ],
      "execution_count": null,
      "outputs": []
    },
    {
      "cell_type": "markdown",
      "metadata": {
        "id": "rcEwtegRlOPL",
        "colab_type": "text"
      },
      "source": [
        "Split the dataset into features (x) and labels (y)"
      ]
    },
    {
      "cell_type": "code",
      "metadata": {
        "id": "LaGlWCinlO5n",
        "colab_type": "code",
        "colab": {}
      },
      "source": [
        "le = preprocessing.LabelEncoder()\n",
        "x = df.drop('object',axis = 1)\n",
        "a=df['object']\n",
        "y= le.fit_transform(a)\n",
        "print (x)\n",
        "print (y)"
      ],
      "execution_count": null,
      "outputs": []
    },
    {
      "cell_type": "markdown",
      "metadata": {
        "id": "tDlbd4SnmAHU",
        "colab_type": "text"
      },
      "source": [
        "Split the features and labels into training and testing set"
      ]
    },
    {
      "cell_type": "code",
      "metadata": {
        "id": "qBr8HtrPl_mU",
        "colab_type": "code",
        "colab": {}
      },
      "source": [
        "x_train1, x_test1, y_train1, y_test1 = train_test_split(x, y, random_state=15, test_size=0.1,stratify=y)"
      ],
      "execution_count": null,
      "outputs": []
    },
    {
      "cell_type": "markdown",
      "metadata": {
        "id": "S5bzaYojmJ-W",
        "colab_type": "text"
      },
      "source": [
        "Train the logistic regression model"
      ]
    },
    {
      "cell_type": "code",
      "metadata": {
        "id": "_kW4JYe6mMAJ",
        "colab_type": "code",
        "colab": {}
      },
      "source": [
        "logistic_regression = LogisticRegression()\n",
        "logistic_regression.fit(x_train1,y_train1)"
      ],
      "execution_count": null,
      "outputs": []
    },
    {
      "cell_type": "markdown",
      "metadata": {
        "id": "SIk0qHApml2n",
        "colab_type": "text"
      },
      "source": [
        "Test the trained model and also evaluation"
      ]
    },
    {
      "cell_type": "code",
      "metadata": {
        "id": "EoLYloKZmmYr",
        "colab_type": "code",
        "colab": {}
      },
      "source": [
        "y_pred = logistic_regression.predict(x_test1)\n",
        "accuracy = metrics.accuracy_score(y_test1, y_pred)\n",
        "accuracy_percentage = 100 * accuracy\n",
        "accuracy_percentage\n",
        "\n",
        "print(classification_report(y_test1, y_pred))\n",
        "\n",
        "#y_pred_1=loaded_model.predict(x_test1)\n",
        "con_mat = tf.math.confusion_matrix(labels=y_test1, predictions=y_pred).numpy()\n",
        "\n",
        "con_mat_norm = np.around(con_mat.astype('float') / con_mat.sum(axis=1)[:, np.newaxis], decimals=2)\n",
        "classes=['Car','Drone','Human']\n",
        "con_mat_df = pd.DataFrame(con_mat_norm,\n",
        "                     index = classes, \n",
        "                     columns = classes)\n",
        "\n",
        "figure = plt.figure(figsize=(6, 4))\n",
        "sns.heatmap(con_mat_df, annot=True,cmap='Blues',linecolor='black',linewidths=1)\n",
        "plt.tight_layout()\n",
        "plt.ylabel('True label',fontsize=12)\n",
        "plt.xlabel('Predicted label',fontsize=12)\n",
        "\n",
        "plt.show()"
      ],
      "execution_count": null,
      "outputs": []
    },
    {
      "cell_type": "markdown",
      "metadata": {
        "id": "C6ofU4LjnDws",
        "colab_type": "text"
      },
      "source": [
        "Save the trained model"
      ]
    },
    {
      "cell_type": "code",
      "metadata": {
        "id": "bWx5327qnEJ5",
        "colab_type": "code",
        "colab": {}
      },
      "source": [
        "\n",
        "pickle.dump(logistic_regression,open(\"Path to save the model\",'wb'))"
      ],
      "execution_count": null,
      "outputs": []
    },
    {
      "cell_type": "markdown",
      "metadata": {
        "id": "JPt6dJp-nFOg",
        "colab_type": "text"
      },
      "source": [
        "Load a trained model"
      ]
    },
    {
      "cell_type": "code",
      "metadata": {
        "id": "WbWM9bKTnGBM",
        "colab_type": "code",
        "colab": {}
      },
      "source": [
        "loaded_model = pickle.load(open('Path to load saved model', 'rb'))\n",
        "result = loaded_model.score(x_test1, y_test1)\n",
        "print(result)\n",
        "\n",
        "y_pred_1=loaded_model.predict(x_test1)\n",
        "con_mat = tf.math.confusion_matrix(labels=y_test1, predictions=y_pred_1).numpy()\n",
        "\n",
        "con_mat_norm = np.around(con_mat.astype('float') / con_mat.sum(axis=1)[:, np.newaxis], decimals=2)\n",
        "classes=['Car','Drone','Human']\n",
        "con_mat_df = pd.DataFrame(con_mat_norm,\n",
        "                     index = classes, \n",
        "                     columns = classes)\n",
        "\n",
        "figure = plt.figure(figsize=(6, 4))\n",
        "sns.heatmap(con_mat_df, annot=True,cmap='Blues',linecolor='black',linewidths=1)\n",
        "plt.tight_layout()\n",
        "plt.ylabel('True label',fontsize=12)\n",
        "plt.xlabel('Predicted label',fontsize=12)\n",
        "\n",
        "plt.show()"
      ],
      "execution_count": null,
      "outputs": []
    }
  ]
}