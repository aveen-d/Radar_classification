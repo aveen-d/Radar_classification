{
  "nbformat": 4,
  "nbformat_minor": 0,
  "metadata": {
    "colab": {
      "name": "SVM.ipynb",
      "provenance": []
    },
    "kernelspec": {
      "name": "python3",
      "display_name": "Python 3"
    }
  },
  "cells": [
    {
      "cell_type": "markdown",
      "metadata": {
        "id": "uw8eVFi2tUAx",
        "colab_type": "text"
      },
      "source": [
        "Import necessary packages"
      ]
    },
    {
      "cell_type": "code",
      "metadata": {
        "id": "YFxPF7F3oDOw",
        "colab_type": "code",
        "colab": {}
      },
      "source": [
        "import pandas as pd\n",
        "import numpy as np\n",
        "from sklearn import metrics \n",
        "from sklearn.pipeline import make_pipeline\n",
        "from sklearn.preprocessing import StandardScaler\n",
        "from sklearn.svm import SVC\n",
        "from sklearn.model_selection import train_test_split\n",
        "from sklearn import preprocessing\n",
        "from sklearn.metrics import classification_report\n",
        "import pickle\n",
        "import matplotlib.pyplot as plt\n",
        "import seaborn as sns\n",
        "import tensorflow as tf"
      ],
      "execution_count": null,
      "outputs": []
    },
    {
      "cell_type": "markdown",
      "metadata": {
        "id": "gxT3whhJtYDh",
        "colab_type": "text"
      },
      "source": [
        "Read the dataset as a panda dataframe"
      ]
    },
    {
      "cell_type": "code",
      "metadata": {
        "id": "pBrR62XzoN-y",
        "colab_type": "code",
        "colab": {}
      },
      "source": [
        "df = pd.read_csv(\"Path of the dataset\")\n",
        "df.head()"
      ],
      "execution_count": null,
      "outputs": []
    },
    {
      "cell_type": "markdown",
      "metadata": {
        "id": "khKPpNWStZMa",
        "colab_type": "text"
      },
      "source": [
        "Split the dataset into features (x) and labels (y)"
      ]
    },
    {
      "cell_type": "code",
      "metadata": {
        "id": "tzkCiAgboQee",
        "colab_type": "code",
        "colab": {}
      },
      "source": [
        "le = preprocessing.LabelEncoder()\n",
        "x = df.drop('object',axis = 1)\n",
        "a=df['object']\n",
        "y= le.fit_transform(a)\n",
        "print (x)\n",
        "print (y)"
      ],
      "execution_count": null,
      "outputs": []
    },
    {
      "cell_type": "markdown",
      "metadata": {
        "id": "pV47-SxytcTU",
        "colab_type": "text"
      },
      "source": [
        "Split the features and labels into training and testing set"
      ]
    },
    {
      "cell_type": "code",
      "metadata": {
        "id": "5d7Euq7WoTWB",
        "colab_type": "code",
        "colab": {}
      },
      "source": [
        "x_train1, x_test1, y_train1, y_test1 = train_test_split(x, y, random_state=15, test_size=0.1,stratify=y)"
      ],
      "execution_count": null,
      "outputs": []
    },
    {
      "cell_type": "markdown",
      "metadata": {
        "id": "JfFemyjgtfwz",
        "colab_type": "text"
      },
      "source": [
        "Train the SVM model"
      ]
    },
    {
      "cell_type": "code",
      "metadata": {
        "id": "3Ip0OjUVoUPU",
        "colab_type": "code",
        "colab": {}
      },
      "source": [
        "clf = make_pipeline(StandardScaler(), SVC(gamma='auto'))\n",
        "clf.fit(x_train1, y_train1)"
      ],
      "execution_count": null,
      "outputs": []
    },
    {
      "cell_type": "markdown",
      "metadata": {
        "id": "ADcw3-uFtlby",
        "colab_type": "text"
      },
      "source": [
        "Test the SVM model"
      ]
    },
    {
      "cell_type": "code",
      "metadata": {
        "id": "_8tknP6rofzi",
        "colab_type": "code",
        "colab": {}
      },
      "source": [
        "y_pred = clf.predict(x_test1)\n",
        "print(classification_report(y_test1, y_pred))\n",
        "con_mat = tf.math.confusion_matrix(labels=y_test1, predictions=y_pred).numpy()\n",
        "\n",
        "con_mat_norm = np.around(con_mat.astype('float') / con_mat.sum(axis=1)[:, np.newaxis], decimals=2)\n",
        "classes=['Car','Drone','Human']\n",
        "con_mat_df = pd.DataFrame(con_mat_norm,\n",
        "                     index = classes, \n",
        "                     columns = classes)\n",
        "\n",
        "figure = plt.figure(figsize=(6, 4))\n",
        "sns.heatmap(con_mat_df, annot=True,cmap='Blues',linecolor='black',linewidths=1)\n",
        "plt.tight_layout()\n",
        "plt.ylabel('True label',fontsize=12)\n",
        "plt.xlabel('Predicted label',fontsize=12)\n",
        "\n",
        "plt.show()"
      ],
      "execution_count": null,
      "outputs": []
    },
    {
      "cell_type": "markdown",
      "metadata": {
        "id": "QfiapG0Rtnsh",
        "colab_type": "text"
      },
      "source": [
        "Save the trained model"
      ]
    },
    {
      "cell_type": "code",
      "metadata": {
        "id": "ob91C1-LpCas",
        "colab_type": "code",
        "colab": {}
      },
      "source": [
        "\n",
        "pickle.dump(clf,open(\"Path to save the model\",'wb'))"
      ],
      "execution_count": null,
      "outputs": []
    },
    {
      "cell_type": "markdown",
      "metadata": {
        "id": "tsnSuu8MtqDB",
        "colab_type": "text"
      },
      "source": [
        "Load the saved model"
      ]
    },
    {
      "cell_type": "code",
      "metadata": {
        "id": "yF7iZ0xUpB6z",
        "colab_type": "code",
        "colab": {}
      },
      "source": [
        "\n",
        "loaded_model = pickle.load(open('Path to load saved model', 'rb'))\n",
        "\n",
        "\n",
        "y_pred_1=loaded_model.predict(x_test1)\n",
        "con_mat = tf.math.confusion_matrix(labels=y_test1, predictions=y_pred_1).numpy()\n",
        "\n",
        "con_mat_norm = np.around(con_mat.astype('float') / con_mat.sum(axis=1)[:, np.newaxis], decimals=2)\n",
        "classes=['Car','Drone','Human']\n",
        "con_mat_df = pd.DataFrame(con_mat_norm,\n",
        "                     index = classes, \n",
        "                     columns = classes)\n",
        "\n",
        "figure = plt.figure(figsize=(6, 4))\n",
        "sns.heatmap(con_mat_df, annot=True,cmap='Blues',linecolor='black',linewidths=1)\n",
        "plt.tight_layout()\n",
        "plt.ylabel('True label',fontsize=12)\n",
        "plt.xlabel('Predicted label',fontsize=12)\n",
        "\n",
        "plt.show()\n",
        "print(classification_report(y_test1, y_pred_1))"
      ],
      "execution_count": null,
      "outputs": []
    }
  ]
}