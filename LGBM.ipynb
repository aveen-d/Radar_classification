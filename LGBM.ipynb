{
  "nbformat": 4,
  "nbformat_minor": 0,
  "metadata": {
    "colab": {
      "name": "LGBM.ipynb",
      "provenance": []
    },
    "kernelspec": {
      "name": "python3",
      "display_name": "Python 3"
    }
  },
  "cells": [
    {
      "cell_type": "markdown",
      "metadata": {
        "id": "Dih3SLKrxbJZ",
        "colab_type": "text"
      },
      "source": [
        "Import necessary packages"
      ]
    },
    {
      "cell_type": "code",
      "metadata": {
        "id": "N7dlUu2kvklo",
        "colab_type": "code",
        "colab": {}
      },
      "source": [
        "import pandas as pd\n",
        "import numpy as np\n",
        "from sklearn import metrics \n",
        "import lightgbm as lgb\n",
        "from sklearn.model_selection import train_test_split\n",
        "from sklearn import preprocessing\n",
        "from sklearn.metrics import classification_report\n",
        "import pickle\n",
        "import matplotlib.pyplot as plt\n",
        "import seaborn as sns\n",
        "import tensorflow as tf"
      ],
      "execution_count": null,
      "outputs": []
    },
    {
      "cell_type": "markdown",
      "metadata": {
        "id": "zokRWyjLxVgE",
        "colab_type": "text"
      },
      "source": [
        "Read the dataset as a panda dataframe\n",
        "\n"
      ]
    },
    {
      "cell_type": "code",
      "metadata": {
        "id": "FzEG4Eq_vqHJ",
        "colab_type": "code",
        "colab": {}
      },
      "source": [
        "df = pd.read_csv(\"Path of the dataset\")\n",
        "df.head()"
      ],
      "execution_count": null,
      "outputs": []
    },
    {
      "cell_type": "markdown",
      "metadata": {
        "id": "1v9LCeUQxSM0",
        "colab_type": "text"
      },
      "source": [
        "Split the dataset into features (x) and labels (y)\n",
        "\n"
      ]
    },
    {
      "cell_type": "code",
      "metadata": {
        "id": "fMVJKvMsvuSS",
        "colab_type": "code",
        "colab": {}
      },
      "source": [
        "le = preprocessing.LabelEncoder()\n",
        "x = df.drop('object',axis = 1)\n",
        "a=df['object']\n",
        "y= le.fit_transform(a)\n",
        "print (x)\n",
        "print (y)"
      ],
      "execution_count": null,
      "outputs": []
    },
    {
      "cell_type": "markdown",
      "metadata": {
        "id": "jmDxBggqvxSA",
        "colab_type": "text"
      },
      "source": [
        "Split the features and labels into training and testing set"
      ]
    },
    {
      "cell_type": "code",
      "metadata": {
        "id": "mMIigxFAvxwa",
        "colab_type": "code",
        "colab": {}
      },
      "source": [
        "x_train1, x_test1, y_train1, y_test1 = train_test_split(x, y, random_state=15, test_size=0.1,stratify=y)"
      ],
      "execution_count": null,
      "outputs": []
    },
    {
      "cell_type": "markdown",
      "metadata": {
        "id": "GQJvSq0WxLAl",
        "colab_type": "text"
      },
      "source": [
        "Train the LGBM model"
      ]
    },
    {
      "cell_type": "code",
      "metadata": {
        "id": "1y92yzvQv62z",
        "colab_type": "code",
        "colab": {}
      },
      "source": [
        "d_train = lgb.Dataset(x_train, label=y_train)\n",
        "params = {}\n",
        "params['learning_rate'] = 0.3\n",
        "params['boosting_type'] = 'gbdt'\n",
        "params['objective'] = 'multiclass'\n",
        "params['metric'] = 'multi_logloss'\n",
        "params['sub_feature'] = 0.5\n",
        "params['num_leaves'] = 10\n",
        "params['min_data'] = 50\n",
        "params['max_depth'] = 10\n",
        "params['num_class']=3\n",
        "clf = lgb.train(params, d_train, 500)"
      ],
      "execution_count": null,
      "outputs": []
    },
    {
      "cell_type": "markdown",
      "metadata": {
        "id": "zFNqbDv0xEQ1",
        "colab_type": "text"
      },
      "source": [
        "Test the trained model"
      ]
    },
    {
      "cell_type": "code",
      "metadata": {
        "id": "IT15h_TOwIKP",
        "colab_type": "code",
        "colab": {}
      },
      "source": [
        "y_pred=clf.predict(x_test)\n",
        "#print(y_pred)\n",
        "y_pred_1 = [np.argmax(line) for line in y_pred]\n",
        "accuracy=accuracy_score(y_pred_1,y_test)\n",
        "print(accuracy)\n",
        "print(classification_report(y_test1, y_pred_1))\n",
        "con_mat = tf.math.confusion_matrix(labels=y_test1, predictions=y_pred_1).numpy()\n",
        "\n",
        "con_mat_norm = np.around(con_mat.astype('float') / con_mat.sum(axis=1)[:, np.newaxis], decimals=2)\n",
        "classes=['Car','Drone','Human']\n",
        "con_mat_df = pd.DataFrame(con_mat_norm,\n",
        "                     index = classes, \n",
        "                     columns = classes)\n",
        "\n",
        "figure = plt.figure(figsize=(6, 4))\n",
        "sns.heatmap(con_mat_df, annot=True,cmap='Blues',linecolor='black',linewidths=1)\n",
        "plt.tight_layout()\n",
        "plt.ylabel('True label',fontsize=12)\n",
        "plt.xlabel('Predicted label',fontsize=12)\n",
        "\n",
        "plt.show()"
      ],
      "execution_count": null,
      "outputs": []
    },
    {
      "cell_type": "markdown",
      "metadata": {
        "id": "Qc03xPRixAaC",
        "colab_type": "text"
      },
      "source": [
        "Save the trained model"
      ]
    },
    {
      "cell_type": "code",
      "metadata": {
        "id": "aXfuRejtwo-0",
        "colab_type": "code",
        "colab": {}
      },
      "source": [
        "pickle.dump(clf,open(\"/gdrive/My Drive/radar_model/lgm\",'wb'))"
      ],
      "execution_count": null,
      "outputs": []
    },
    {
      "cell_type": "markdown",
      "metadata": {
        "id": "glSCwMd-w-3l",
        "colab_type": "text"
      },
      "source": [
        "Load the saved model"
      ]
    },
    {
      "cell_type": "code",
      "metadata": {
        "id": "88QFzRkrwovM",
        "colab_type": "code",
        "colab": {}
      },
      "source": [
        "loaded_model = pickle.load(open('/gdrive/My Drive/lgm', 'rb'))\n",
        "result = loaded_model.predict(x_test1)\n",
        "result = loaded_model.predict(x_test1)\n",
        "y_pred_1 = [np.argmax(line) for line in result]\n",
        "accuracy=accuracy_score(y_pred_1,y_test)\n",
        "print(accuracy)\n",
        "print(classification_report(y_test1, y_pred_1))\n",
        "con_mat = tf.math.confusion_matrix(labels=y_test1, predictions=y_pred_1).numpy()\n",
        "\n",
        "con_mat_norm = np.around(con_mat.astype('float') / con_mat.sum(axis=1)[:, np.newaxis], decimals=2)\n",
        "classes=['Car','Drone','Human']\n",
        "con_mat_df = pd.DataFrame(con_mat_norm,\n",
        "                     index = classes, \n",
        "                     columns = classes)\n",
        "\n",
        "figure = plt.figure(figsize=(6, 4))\n",
        "sns.heatmap(con_mat_df, annot=True,cmap='Blues',linecolor='black',linewidths=1)\n",
        "plt.tight_layout()\n",
        "plt.ylabel('True label',fontsize=12)\n",
        "plt.xlabel('Predicted label',fontsize=12)\n",
        "\n",
        "plt.show()"
      ],
      "execution_count": null,
      "outputs": []
    }
  ]
}